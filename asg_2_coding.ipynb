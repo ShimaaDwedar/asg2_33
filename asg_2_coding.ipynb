{
 "cells": [
  {
   "cell_type": "code",
   "execution_count": 201,
   "id": "50f147f9",
   "metadata": {},
   "outputs": [],
   "source": [
    "ciphertexts= [\"70A20FBD7E209324A979BFE2997A46E61B22749692EB1655FA995D46A9FA654F43C93F2114A21E3E227714580A6790B88BD74F9E09107D8B0EAC\",\n",
    "\"6FA20DBA622CDD28EC68F0F0C16D41A7023778C29EB8455EFC894B46EDA96C46459E2D2A1CEF1239707F571604618CEB9DD85E955013628B0DAE\",\n",
    "\"6FA20DBA6220893AA970A4B5CD664CE609286D8799B80010F68A0F56FAE868405BD72A2A51E118386E7214520E6994AC9D964E824A16648B16B9\",\n",
    "\"71A80AAA6227DD20FB68A0E1D6695BA71C3864C285AE1445F09E4A50A9EA6B5B52D82B3F51E3192922645D5100769ABE8B965C89480F6F910BB3\",\n",
    "\"7DA30ABD753A8E63FB70BEF1D66340BC0D24748D99EB065FEC804B03F9FB6F5F52D02A731CE31B24617F5B431C2496AA94DA1D865D17778109B3\",\n",
    "\"75B34EA66369932CFD31A0E7D86D5DAF0F3171C283A44542FC805603FAE6664C5BC77E3C1FA204346F7B51421D6D96EB9DD85E955013628B0DAE\",\n",
    "\"75E71DA771259163E774A6F0CB2E5BA3192378C283A30010EA8D4246A9F96B5A44C9312115A21823227B415A1B6D85A79D965C844A0C638C16B3\",\n",
    "\"68AF0BEF7F39982DA975B5E6D06947E61C22748C94A2155CFCCC464DEAFB6F4844DB2D7312ED192B6B7251580C61D5A296964E824A16648B16B9\"]"
   ]
  },
  {
   "cell_type": "code",
   "execution_count": 202,
   "id": "8609116c",
   "metadata": {},
   "outputs": [
    {
     "data": {
      "text/plain": [
       "'70A20FBD7E209324A979BFE2997A46E61B22749692EB1655FA995D46A9FA654F43C93F2114A21E3E227714580A6790B88BD74F9E09107D8B0EAC'"
      ]
     },
     "execution_count": 202,
     "metadata": {},
     "output_type": "execute_result"
    }
   ],
   "source": [
    "ciphertexts[0]"
   ]
  },
  {
   "cell_type": "code",
   "execution_count": 203,
   "id": "36c07d19",
   "metadata": {},
   "outputs": [],
   "source": [
    "def xoringTWOstrings(msg1, msg2):\n",
    "    ans = \"\"\n",
    "    for i in range(len(msg1)):\n",
    "        decimal1 = int(msg1[i], 16)\n",
    "        decimal2 = int(msg2[i], 16)\n",
    "        ans += hex(decimal1 ^ decimal2)[2:]\n",
    "    return ans"
   ]
  },
  {
   "cell_type": "code",
   "execution_count": 204,
   "id": "605af3f8",
   "metadata": {},
   "outputs": [],
   "source": [
    "messages = []\n",
    "for i in range(8):\n",
    "    col = []\n",
    "    for j in range(58):\n",
    "        col.append(\"\u0012\")\n",
    "    messages.append(col)"
   ]
  },
  {
   "cell_type": "code",
   "execution_count": 205,
   "id": "c3d79401",
   "metadata": {},
   "outputs": [
    {
     "name": "stdout",
     "output_type": "stream",
     "text": [
      "[0, 1, 1, 1, 0, 1, 2, 2, 5, 1, 1, 1, 7, 1, 0, 5, 0, 0, 0, 4, 0, 6, 2, 2, 0, 1, 1, 2, 5, 1, 0, 0, 0, 1, 1, 2, 2, 5, 0, 0, 5, 0, 6, 1, 0, 1, 1, 2, 0, 4, 1, 0, 7, 0, 0, 0, 0, 0]\n",
      "[0, 1, 1, 1, 0, 1, 6, 2, 3, 1, 7, 1, 1, 1, 0, 3, 0, 0, 0, 4, 0, 2, 6, 2, 0, 1, 1, 2, 3, 7, 0, 0, 0, 7, 1, 2, 2, 3, 0, 0, 3, 0, 2, 7, 0, 1, 1, 6, 0, 4, 1, 0, 1, 0, 0, 0, 0, 0]\n",
      "[0, 1, 1, 1, 0, 1, 2, 2, 5, 1, 1, 7, 1, 1, 0, 5, 0, 0, 0, 4, 0, 2, 2, 6, 0, 1, 7, 2, 3, 1, 0, 0, 0, 1, 1, 2, 6, 3, 0, 0, 3, 0, 6, 1, 0, 1, 1, 2, 0, 4, 1, 0, 1, 0, 0, 0, 0, 0]\n",
      "[0, 1, 1, 1, 0, 1, 6, 2, 3, 1, 1, 1, 1, 1, 0, 3, 0, 0, 0, 4, 0, 2, 2, 2, 0, 1, 1, 2, 5, 1, 0, 0, 0, 1, 1, 2, 6, 3, 0, 0, 5, 0, 2, 1, 0, 1, 1, 2, 0, 4, 1, 0, 1, 0, 0, 0, 0, 0]\n",
      "[0, 1, 1, 1, 0, 1, 2, 6, 3, 1, 1, 1, 1, 1, 0, 3, 0, 0, 0, 4, 0, 6, 2, 2, 0, 1, 1, 6, 3, 1, 0, 0, 0, 1, 1, 6, 2, 3, 0, 0, 3, 0, 2, 1, 0, 7, 1, 2, 0, 4, 7, 0, 1, 0, 0, 0, 0, 0]\n",
      "[0, 1, 7, 1, 0, 7, 2, 2, 3, 7, 1, 1, 1, 1, 0, 3, 0, 0, 0, 4, 0, 2, 6, 2, 0, 1, 1, 6, 3, 1, 0, 0, 0, 1, 7, 2, 2, 5, 0, 0, 3, 0, 2, 1, 0, 1, 1, 6, 0, 4, 1, 0, 1, 0, 0, 0, 0, 0]\n",
      "[0, 7, 1, 1, 0, 1, 2, 6, 3, 1, 1, 1, 1, 7, 0, 3, 0, 0, 0, 4, 0, 2, 2, 6, 0, 1, 1, 2, 5, 1, 0, 0, 0, 1, 1, 2, 2, 5, 0, 0, 5, 0, 2, 1, 0, 1, 1, 2, 0, 4, 1, 0, 1, 0, 0, 0, 0, 0]\n",
      "[0, 1, 1, 7, 0, 1, 2, 2, 5, 1, 1, 1, 1, 1, 0, 5, 0, 0, 0, 4, 0, 2, 2, 2, 0, 7, 1, 2, 3, 1, 0, 0, 0, 1, 1, 6, 2, 3, 0, 0, 3, 0, 2, 1, 0, 1, 7, 2, 0, 4, 1, 0, 1, 0, 0, 0, 0, 0]\n"
     ]
    }
   ],
   "source": [
    "for i in range (8):\n",
    "    xors = []\n",
    "    for j in range (8):\n",
    "        xors.append(xoringTWOstrings(ciphertexts[i], ciphertexts[j]))\n",
    "    \n",
    "    for j in range (len(xors)):\n",
    "        bytes_object = bytes.fromhex(xors[j])\n",
    "        xors[j] = bytes_object.decode(\"ASCII\")\n",
    "\n",
    "    occur = [0]*58\n",
    "    for j in range(len(xors)):\n",
    "        for k in range(len(xors[j])):\n",
    "            if (ord(xors[j][k]) >= 65):\n",
    "                occur[k] += 1\n",
    "    \n",
    "    print (occur)\n",
    "    for j in range (len(occur)):\n",
    "        if (occur[j] >= 5):\n",
    "            messages[i][j] = \" \"\n",
    "            for k in range (len(xors)):\n",
    "                if (k!=i):\n",
    "                    cnt = cnt+1\n",
    "                    messages[k][j] = xors[k][j]\n",
    "                else:\n",
    "                    messages[k][j] = \" \""
   ]
  },
  {
   "cell_type": "code",
   "execution_count": 206,
   "id": "dc827d9d",
   "metadata": {},
   "outputs": [
    {
     "name": "stdout",
     "output_type": "stream",
     "text": [
      "\u0012EAR\u0012ING\u0000HOW T\u0012\u0000\u0012\u0012\u0012\u0012\u0012\u0000SE\u0012URE\u0000S\u0012\u0012\u0012WARE\u0000\u0012\u0012\u0000\u0012\u0000N\u0012CES\u0012\u0012R\u0012 \u0012\u0012\u0012\u0012\u0012\n",
      "\u0012ECU\u0012E\u0000KEY EXC\u0012A\u0012\u0012\u0012\u0012\u0012S\u0000N\u0012EDED \u0012\u0012\u0012 SYMM\u0012\u0012R\u0012C \u0012EY\u0000\u0012\u0012C\u0012Y\u0012\u0012\u0012\u0012\u0012\n",
      "\u0012ECU\u0012ITY\u0000AT TH\u0012\u0000\u0012\u0012\u0012\u0012\u0012SE\u0000\u0012F USA\u0012\u0012\u0012ITY\u0000C\u0012\u0012L\u0012 D\u0012MAG\u0012\u0012S\u0012C\u0012\u0012\u0012\u0012\u0012\n",
      "\u0012ODE\u0012N CRYPTOG\u0012A\u0012\u0012\u0012\u0012\u0012EQU\u0012RES\u0000C\u0012\u0012\u0012FUL A\u0012\u0012\u0000\u0012IG\u0012ROU\u0012\u0012A\u0012A\u0012\u0012\u0012\u0012\u0012\n",
      "\u0012DDR\u0012SS\u0000RANDOM\u0012Z\u0012\u0012\u0012\u0012\u0012 CO\u0012LD\u0000PR\u0012\u0012\u0012NT\u0000MA\u0012\u0012C\u0012OU\u0012 CA\u0012\u0012 \u0012T\u0012\u0012\u0012\u0012\u0012\n",
      "\u0012T I\u0012 NOT PRAC\u0012I\u0012\u0012\u0012\u0012\u0012O R\u0012LY SO\u0012\u0012\u0012Y ON\u0000\u0012\u0012M\u0012ET\u0012IC \u0012\u0012C\u0012Y\u0012\u0012\u0012\u0012\u0012\n",
      "\u0012 SH\u0012LL NEVER \u0012E\u0012\u0012\u0012\u0012\u0012HE \u0012AME P\u0012\u0012\u0012WORD \u0012\u0012 \u0012UL\u0012IPL\u0012\u0012A\u0012C\u0012\u0012\u0012\u0012\u0012\n",
      "\u0012HE \u0012PEN DESIG\u0012 \u0012\u0012\u0012\u0012\u0012IPL\u0012 INCR\u0012\u0012\u0012ES CO\u0012\u0012I\u0012EN\u0012E I\u0012\u0012S\u0012C\u0012\u0012\u0012\u0012\u0012\n"
     ]
    }
   ],
   "source": [
    "for i in range(8):\n",
    "    print(\"\".join(messages[i]))"
   ]
  },
  {
   "cell_type": "code",
   "execution_count": null,
   "id": "c5617b11",
   "metadata": {},
   "outputs": [],
   "source": []
  }
 ],
 "metadata": {
  "kernelspec": {
   "display_name": "Python 3 (ipykernel)",
   "language": "python",
   "name": "python3"
  },
  "language_info": {
   "codemirror_mode": {
    "name": "ipython",
    "version": 3
   },
   "file_extension": ".py",
   "mimetype": "text/x-python",
   "name": "python",
   "nbconvert_exporter": "python",
   "pygments_lexer": "ipython3",
   "version": "3.7.7"
  }
 },
 "nbformat": 4,
 "nbformat_minor": 5
}
